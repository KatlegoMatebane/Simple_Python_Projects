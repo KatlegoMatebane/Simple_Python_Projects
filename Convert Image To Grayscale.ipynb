{
 "cells": [
  {
   "cell_type": "markdown",
   "id": "66ba9e68",
   "metadata": {},
   "source": [
    "# COVERT IMAGES TO GRAYSCALE"
   ]
  },
  {
   "cell_type": "markdown",
   "id": "f4c7585d",
   "metadata": {},
   "source": [
    "**SINGLE GRAYSCALE IMAGE**"
   ]
  },
  {
   "cell_type": "markdown",
   "id": "f4da0670",
   "metadata": {},
   "source": [
    "Convert a single image from colour to black grayscale"
   ]
  },
  {
   "cell_type": "code",
   "execution_count": null,
   "id": "56a5f0f3",
   "metadata": {},
   "outputs": [],
   "source": [
    "import cv2\n",
    "\n",
    "Path1 = '/Users/katlegomatebane/Desktop/Resources/SingleImage/Tower.jpg'\n",
    "Path2 = '/Users/katlegomatebane/Desktop/Resources/SingleImage/Tower_BW.jpg'\n",
    "\n",
    "originalImage = cv2.imread(Path1)\n",
    "grayImage = cv2.cvtColor(originalImage, cv2.COLOR_BGR2GRAY)\n",
    "  \n",
    "(thresh, blackAndWhiteImage) = cv2.threshold(grayImage, 127, 255, cv2.THRESH_BINARY)\n",
    "\n",
    "cv2.imwrite(Path2, grayImage)"
   ]
  },
  {
   "cell_type": "markdown",
   "id": "705366ec",
   "metadata": {},
   "source": [
    "**MULTIPLE GRAYSCALE IMAGES**"
   ]
  },
  {
   "cell_type": "markdown",
   "id": "43f0076c",
   "metadata": {},
   "source": [
    "Create a folder, convert multiple images from colour to black grayscale, and place the images in the new folder"
   ]
  },
  {
   "cell_type": "code",
   "execution_count": null,
   "id": "bacb676d",
   "metadata": {},
   "outputs": [],
   "source": [
    "import os,cv2\n",
    "from os import listdir,makedirs\n",
    "from os.path import isfile,join\n",
    "\n",
    "path = r'/Users/katlegomatebane/Desktop/Resources/ColourImages'\n",
    "dstpath = r'/Users/katlegomatebane/Desktop/Resources/ConvertedImages'\n",
    "\n",
    "files = os.listdir(path)\n",
    "os.mkdir(dstpath)\n",
    "\n",
    "for image in files:\n",
    "    if image.endswith(\".jpg\"):\n",
    "        img = cv2.imread(os.path.join(path,image))\n",
    "        gray = cv2.cvtColor(img,cv2.COLOR_BGR2GRAY)\n",
    "        cv2.imwrite(os.path.join(dstpath,image),gray)"
   ]
  },
  {
   "cell_type": "markdown",
   "id": "dc64aba5",
   "metadata": {},
   "source": [
    "**RENAME GRAYSCALE IMAGES**"
   ]
  },
  {
   "cell_type": "markdown",
   "id": "0d05b402",
   "metadata": {},
   "source": [
    "Rename all converted images in the new folder"
   ]
  },
  {
   "cell_type": "code",
   "execution_count": null,
   "id": "c28b2a7f",
   "metadata": {},
   "outputs": [],
   "source": [
    "import os\n",
    "\n",
    "folder = r'/Users/katlegomatebane/Desktop/Resources/ConvertedImages/'\n",
    "count = 1\n",
    "\n",
    "for file_name in os.listdir(folder):\n",
    "    source = folder + file_name\n",
    "    destination = folder + \"UNLCKD \" + str(count) + \".JPG\"\n",
    "    os.rename(source, destination)\n",
    "    count += 1"
   ]
  }
 ],
 "metadata": {
  "kernelspec": {
   "display_name": "Python 3",
   "language": "python",
   "name": "python3"
  },
  "language_info": {
   "codemirror_mode": {
    "name": "ipython",
    "version": 3
   },
   "file_extension": ".py",
   "mimetype": "text/x-python",
   "name": "python",
   "nbconvert_exporter": "python",
   "pygments_lexer": "ipython3",
   "version": "3.8.8"
  }
 },
 "nbformat": 4,
 "nbformat_minor": 5
}
